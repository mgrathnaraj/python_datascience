{
 "cells": [
  {
   "cell_type": "markdown",
   "id": "79ff8116",
   "metadata": {},
   "source": [
    "#### 1. What is the difference between a list and a tuple?"
   ]
  },
  {
   "cell_type": "markdown",
   "id": "086431fd",
   "metadata": {},
   "source": [
    "List and Tuple in Python are the class of data structure.\n",
    "\n",
    "List is just like the arrays, declared in other languages. Lists need not be homogeneous always. Lists are a useful tool for preserving a sequence of data given within square brackets and further iterating over it.\n",
    "\n",
    "Lists are mutable. They can be modified after creation.\n",
    "Tuples are immutable. Once a tuple is created it cannot by changed. Tuple also has sequence of data that can contain elements of different data types given within round brackets.\n",
    "\n",
    "List is dynamic, whereas Tuple has static characteristics. Tuple are faster than list because of static in nature."
   ]
  },
  {
   "cell_type": "code",
   "execution_count": 48,
   "id": "2a89aa5e",
   "metadata": {},
   "outputs": [
    {
     "data": {
      "text/plain": [
       "[4, 5, 6]"
      ]
     },
     "execution_count": 48,
     "metadata": {},
     "output_type": "execute_result"
    }
   ],
   "source": [
    "# List example - used square brackets\n",
    "\n",
    "list1 = [1,2,3,4,5]\n",
    "list1.append(6)\n",
    "list1[3:]"
   ]
  },
  {
   "cell_type": "code",
   "execution_count": 11,
   "id": "af221ccc",
   "metadata": {},
   "outputs": [
    {
     "data": {
      "text/plain": [
       "(4, 5, 3)"
      ]
     },
     "execution_count": 11,
     "metadata": {},
     "output_type": "execute_result"
    }
   ],
   "source": [
    "# Tuple example - used round brackets or parenthesis\n",
    "\n",
    "tuple1 = (1,2,3,4,5,3)\n",
    "tuple1.count(3) # this gives answer 2 since value 3 exists twice in the tuple\n",
    "tuple1[3:]"
   ]
  },
  {
   "cell_type": "markdown",
   "id": "e124d799",
   "metadata": {},
   "source": [
    "#### 2. How is string interpolation performed?"
   ]
  },
  {
   "cell_type": "code",
   "execution_count": 17,
   "id": "4b03af32",
   "metadata": {},
   "outputs": [
    {
     "name": "stdout",
     "output_type": "stream",
     "text": [
      "Hello Chris\n",
      "Hey Chris Chris\n",
      "My name is Chris\n"
     ]
    }
   ],
   "source": [
    "name = 'Chris'\n",
    "# 1. f strings\n",
    "print(f'Hello {name}')\n",
    "# 2. % operator\n",
    "print('Hey %s %s' % (name, name))\n",
    "# 3. format\n",
    "print(\n",
    " \"My name is {}\".format((name))\n",
    ")"
   ]
  },
  {
   "cell_type": "markdown",
   "id": "8d11988e",
   "metadata": {},
   "source": [
    "#### 3. What is the difference between “is” and “==”?"
   ]
  },
  {
   "cell_type": "markdown",
   "id": "425d5ed9",
   "metadata": {},
   "source": [
    "is checks identity and == checks equality"
   ]
  },
  {
   "cell_type": "code",
   "execution_count": 19,
   "id": "886e6f13",
   "metadata": {},
   "outputs": [],
   "source": [
    "a = [1,2,3]\n",
    "b = a\n",
    "c = [1,2,3]"
   ]
  },
  {
   "cell_type": "code",
   "execution_count": 20,
   "id": "9255d015",
   "metadata": {},
   "outputs": [
    {
     "name": "stdout",
     "output_type": "stream",
     "text": [
      "True\n",
      "True\n",
      "True\n",
      "False\n"
     ]
    }
   ],
   "source": [
    "print(a == b)\n",
    "print(a == c)\n",
    "\n",
    "print(a is b)\n",
    "print(a is c)"
   ]
  },
  {
   "cell_type": "code",
   "execution_count": 22,
   "id": "b8f5e493",
   "metadata": {},
   "outputs": [
    {
     "name": "stdout",
     "output_type": "stream",
     "text": [
      "3080620618368\n",
      "3080620618368\n",
      "3080620764160\n"
     ]
    }
   ],
   "source": [
    "print(id(a))\n",
    "print(id(b))\n",
    "print(id(c))\n",
    "\n",
    "# c has a different id than a and b."
   ]
  },
  {
   "cell_type": "markdown",
   "id": "68edbe2a",
   "metadata": {},
   "source": [
    "#### 4. What is a decorator?"
   ]
  },
  {
   "cell_type": "markdown",
   "id": "326ad56d",
   "metadata": {},
   "source": [
    "A decorator allows adding functionality to an existing function by passing that existing function to a decorator, which executes the existing function as well as additional code.\n",
    "\n",
    "We can use the @ symbol along with the name of the decorator function and place it above the definition of the function to be decorated."
   ]
  },
  {
   "cell_type": "code",
   "execution_count": 24,
   "id": "2bdbe81d",
   "metadata": {},
   "outputs": [
    {
     "name": "stdout",
     "output_type": "stream",
     "text": [
      "I got decorated\n",
      "I am ordinary\n"
     ]
    }
   ],
   "source": [
    "def make_pretty(func):\n",
    "    def inner():\n",
    "        print(\"I got decorated\")\n",
    "        func()\n",
    "    return inner\n",
    "\n",
    "\n",
    "def ordinary():\n",
    "    print(\"I am ordinary\")\n",
    "    \n",
    "# let's decorate this ordinary function\n",
    "pretty = make_pretty(ordinary)\n",
    "pretty()\n",
    "\n",
    "#In the example shown above, make_pretty() is a decorator."
   ]
  },
  {
   "cell_type": "code",
   "execution_count": 26,
   "id": "624b04e2",
   "metadata": {},
   "outputs": [],
   "source": [
    "@make_pretty\n",
    "def ordinary():\n",
    "    print(\"I am ordinary\")\n",
    "\n",
    "# is equivalent to ordinary = make_pretty(ordinary)"
   ]
  },
  {
   "cell_type": "markdown",
   "id": "dce0f40b",
   "metadata": {},
   "source": [
    "#### 5. Explain the range function"
   ]
  },
  {
   "cell_type": "markdown",
   "id": "7e039f80",
   "metadata": {},
   "source": [
    "Range generates a list of integers. The function takes 1 to 3 arguments.\n",
    "\n",
    "range(start, stop, step) : generate integers from “start” to “stop” at intervals of “step”."
   ]
  },
  {
   "cell_type": "code",
   "execution_count": 38,
   "id": "838a6eaa",
   "metadata": {},
   "outputs": [
    {
     "data": {
      "text/plain": [
       "range(2, 10, 2)"
      ]
     },
     "execution_count": 38,
     "metadata": {},
     "output_type": "execute_result"
    }
   ],
   "source": [
    "# Exampl\n",
    "range(2,10,2)"
   ]
  },
  {
   "cell_type": "markdown",
   "id": "982a013f",
   "metadata": {},
   "source": [
    "#### 6. What is List comprehension?"
   ]
  },
  {
   "cell_type": "markdown",
   "id": "6d640bff",
   "metadata": {},
   "source": [
    "List comprehension offers a shorter syntax when you want to create a new list based on the values of an existing list."
   ]
  },
  {
   "cell_type": "code",
   "execution_count": 40,
   "id": "405f2933",
   "metadata": {},
   "outputs": [
    {
     "name": "stdout",
     "output_type": "stream",
     "text": [
      "['apple', 'banana', 'mango']\n"
     ]
    }
   ],
   "source": [
    "# Example\n",
    "\n",
    "fruits = [\"apple\", \"banana\", \"cherry\", \"kiwi\", \"mango\"]\n",
    "\n",
    "newlist = [x for x in fruits if \"a\" in x]\n",
    "\n",
    "print(newlist)"
   ]
  },
  {
   "cell_type": "markdown",
   "id": "9695aaa8",
   "metadata": {},
   "source": [
    "#### 7. Define a class named car with 2 attributes, “color” and “speed”. Then create an instance and return speed."
   ]
  },
  {
   "cell_type": "code",
   "execution_count": 43,
   "id": "bc89a91f",
   "metadata": {},
   "outputs": [
    {
     "data": {
      "text/plain": [
       "'100mph'"
      ]
     },
     "execution_count": 43,
     "metadata": {},
     "output_type": "execute_result"
    }
   ],
   "source": [
    "class Car :\n",
    "    def __init__(self, color, speed):  # its a constructor, similar to other languages like C#\n",
    "        self.color = color\n",
    "        self.speed = speed\n",
    "car = Car('red','100mph')\n",
    "car.speed"
   ]
  },
  {
   "cell_type": "markdown",
   "id": "09503f78",
   "metadata": {},
   "source": [
    "#### 8. What is the difference between instance, static and class methods in python?\n",
    "Instance methods : accept self parameter and relate to a specific instance of the class.\n",
    "\n",
    "Static methods : use @staticmethod decorator, are not related to a specific instance, and are self-contained (don’t modify class or instance attributes)\n",
    "\n",
    "Class methods : accept cls parameter and can modify the class itself"
   ]
  },
  {
   "cell_type": "code",
   "execution_count": 44,
   "id": "5b30e92a",
   "metadata": {},
   "outputs": [],
   "source": [
    "# Example\n",
    "\n",
    "class CoffeeShop:\n",
    "    specialty = 'espresso'\n",
    "    \n",
    "    def __init__(self, coffee_price):\n",
    "        self.coffee_price = coffee_price\n",
    "    \n",
    "    # instance method\n",
    "    def make_coffee(self):\n",
    "        print(f'Making {self.specialty} for ${self.coffee_price}')\n",
    "    \n",
    "    # static method    \n",
    "    @staticmethod\n",
    "    def check_weather():\n",
    "        print('Its sunny')\n",
    "    # class method\n",
    "    @classmethod\n",
    "    def change_specialty(cls, specialty):\n",
    "        cls.specialty = specialty\n",
    "        print(f'Specialty changed to {specialty}')"
   ]
  },
  {
   "cell_type": "code",
   "execution_count": 46,
   "id": "65b9b63b",
   "metadata": {},
   "outputs": [
    {
     "name": "stdout",
     "output_type": "stream",
     "text": [
      "Making espresso for $5\n",
      "Its sunny\n",
      "Specialty changed to drip coffee\n",
      "Making drip coffee for $5\n"
     ]
    }
   ],
   "source": [
    "coffee_shop = CoffeeShop('5')\n",
    "coffee_shop.make_coffee()\n",
    "\n",
    "coffee_shop.check_weather()\n",
    "\n",
    "coffee_shop.change_specialty('drip coffee')\n",
    "coffee_shop.make_coffee()"
   ]
  },
  {
   "cell_type": "markdown",
   "id": "08d8c529",
   "metadata": {},
   "source": [
    "#### 9. What is the difference between “func” and “func()”?\n",
    "\n",
    "func is the object representing the function which can be assigned to a variable or passed to another function. func() with parentheses calls the function and returns what it outputs."
   ]
  },
  {
   "cell_type": "markdown",
   "id": "de71bee9",
   "metadata": {},
   "source": [
    "#### 10. Explain how the map function works\n",
    "\n",
    "map returns a map object (an iterator) which can iterate over returned values from applying a function to every element in a sequence. The map object can also be converted to a list if required."
   ]
  },
  {
   "cell_type": "markdown",
   "id": "a9194634",
   "metadata": {},
   "source": [
    "def add_three(x):\n",
    "    return x + 3\n",
    "li = [1,2,3]\n",
    "list(map(add_three, li))\n",
    "Result #=> [4, 5, 6]"
   ]
  },
  {
   "cell_type": "markdown",
   "id": "c51f16d0",
   "metadata": {},
   "source": [
    "#### 11. Explain how the reduce function works\n",
    "\n",
    "reduce takes a function and a sequence and iterates over that sequence. On each iteration, both the current element and output from the previous element are passed to the function. In the end, a single value is returned.\n",
    "\n",
    "It is part of functools module in Python."
   ]
  },
  {
   "cell_type": "code",
   "execution_count": 51,
   "id": "a7801898",
   "metadata": {},
   "outputs": [
    {
     "data": {
      "text/plain": [
       "11"
      ]
     },
     "execution_count": 51,
     "metadata": {},
     "output_type": "execute_result"
    }
   ],
   "source": [
    "from functools import reduce\n",
    "def add_three(x,y):\n",
    "    return x + y\n",
    "li = [1,2,3,5]\n",
    "reduce(add_three, li)"
   ]
  },
  {
   "cell_type": "markdown",
   "id": "a16aac56",
   "metadata": {},
   "source": [
    "#### 12. Explain how the filter function works\n",
    "\n",
    "Filter literally does what the name says. It filters elements in a sequence.\n",
    "Each element is passed to a function which is returned in the outputted sequence if the function returns True and discarded if the function returns False."
   ]
  },
  {
   "cell_type": "markdown",
   "id": "ae173e9c",
   "metadata": {},
   "source": [
    "#### 13. Does python call by reference or call by value?\n",
    "\n",
    "All names call by reference, but some memory locations hold objects while others hold pointers to yet other memory locations.\n",
    "\n",
    "In Python, (almost) everything is an object. What we commonly refer to as “variables” in Python are more properly called names. Likewise, “assignment” is really the binding of a name to an object. Each binding has a scope that defines its visibility, usually the block in which the name originates.\n",
    "\n",
    "      name = 'object'\n",
    "\n",
    "In Python,Values are passed to function by object reference.\n",
    "if object is immutable(not modifiable) than the modified value is not available outside the function.\n",
    "if object is mutable (modifiable) than modified value is available outside the function.\n",
    "Mutable objects:\n",
    "list, dict, set, byte array\n",
    "Immutable objects:\n",
    "int, float, complex, string, tuple"
   ]
  },
  {
   "cell_type": "code",
   "execution_count": 52,
   "id": "76e2f461",
   "metadata": {},
   "outputs": [
    {
     "data": {
      "text/plain": [
       "True"
      ]
     },
     "execution_count": 52,
     "metadata": {},
     "output_type": "execute_result"
    }
   ],
   "source": [
    "x = 'some text'\n",
    "y = x\n",
    "x is y"
   ]
  },
  {
   "cell_type": "code",
   "execution_count": 53,
   "id": "187c8518",
   "metadata": {},
   "outputs": [],
   "source": [
    "del x"
   ]
  },
  {
   "cell_type": "code",
   "execution_count": 55,
   "id": "6dc33d82",
   "metadata": {},
   "outputs": [
    {
     "data": {
      "text/plain": [
       "True"
      ]
     },
     "execution_count": 55,
     "metadata": {},
     "output_type": "execute_result"
    }
   ],
   "source": [
    "z = y\n",
    "y is z\n",
    "\n",
    "# What we see is that all these names point to the same object in memory, which wasn’t affected by del x."
   ]
  },
  {
   "cell_type": "markdown",
   "id": "bd5b9166",
   "metadata": {},
   "source": [
    "#### 14. How to reverse a list?\n",
    "\n",
    "reverse() is called on the list and mutates it. It doesn’t return the mutated list itself."
   ]
  },
  {
   "cell_type": "code",
   "execution_count": 60,
   "id": "5f9542ed",
   "metadata": {},
   "outputs": [
    {
     "data": {
      "text/plain": [
       "['c', 'b', 'a']"
      ]
     },
     "execution_count": 60,
     "metadata": {},
     "output_type": "execute_result"
    }
   ],
   "source": [
    "li = ['a','b','c']\n",
    "li.reverse()\n",
    "li"
   ]
  },
  {
   "cell_type": "markdown",
   "id": "847cd5aa",
   "metadata": {},
   "source": [
    "#### 15. How does string multiplication work?\n",
    "\n",
    "The string is concatenated to itself, ex: below 'cat' shown 3 times."
   ]
  },
  {
   "cell_type": "code",
   "execution_count": 62,
   "id": "b748002b",
   "metadata": {},
   "outputs": [
    {
     "data": {
      "text/plain": [
       "'catcatcat'"
      ]
     },
     "execution_count": 62,
     "metadata": {},
     "output_type": "execute_result"
    }
   ],
   "source": [
    "'cat' * 3"
   ]
  },
  {
   "cell_type": "markdown",
   "id": "a9ec5f93",
   "metadata": {},
   "source": [
    "#### 16. How does list multiplication work?\n",
    "\n",
    "A list is outputted containing the contents repeated."
   ]
  },
  {
   "cell_type": "code",
   "execution_count": 64,
   "id": "5db3d16e",
   "metadata": {},
   "outputs": [
    {
     "data": {
      "text/plain": [
       "[1, 2, 3, 1, 2, 3, 1, 2, 3]"
      ]
     },
     "execution_count": 64,
     "metadata": {},
     "output_type": "execute_result"
    }
   ],
   "source": [
    "li = [1,2,3] \n",
    "li * 3"
   ]
  },
  {
   "cell_type": "markdown",
   "id": "932c6dad",
   "metadata": {},
   "source": [
    "#### 17. What does “self” refer to in a class?\n",
    "\n",
    "Self refers to the instance of the class itself. It’s how we give methods access to and the ability to update the object they belong to."
   ]
  },
  {
   "cell_type": "markdown",
   "id": "10933dc6",
   "metadata": {},
   "source": [
    "#### 18. How can you concatenate lists in python?\n",
    "\n",
    "Adding 2 lists together concatenates them. Note that arrays do not function the same way."
   ]
  },
  {
   "cell_type": "code",
   "execution_count": 65,
   "id": "e97826ba",
   "metadata": {},
   "outputs": [
    {
     "data": {
      "text/plain": [
       "[1, 2, 3, 4, 5]"
      ]
     },
     "execution_count": 65,
     "metadata": {},
     "output_type": "execute_result"
    }
   ],
   "source": [
    "a = [1,2]\n",
    "b = [3,4,5]\n",
    "a + b"
   ]
  },
  {
   "cell_type": "markdown",
   "id": "1604965b",
   "metadata": {},
   "source": [
    "#### 19. What is the difference between a shallow and a deep copy?\n",
    "\n",
    "A shallow copy creates a new object, but fills it with references to the original. So adding a new object to the original collection, li3, doesn’t propagate to li4, but modifying one of the objects in li3 will propagate to li4.\n",
    "\n",
    "The other is done with copy.deepcopy(). The 2 objects are now completely independent and changes to either have no affect on the other."
   ]
  },
  {
   "cell_type": "markdown",
   "id": "7d7a581b",
   "metadata": {},
   "source": [
    "##### Shallow copy\n",
    "\n",
    "li3 = [['a'],['b'],['c']]\n",
    "\n",
    "li4 = list(li3) \n",
    "\n",
    "li3.append([4])\n",
    "\n",
    "print(li4)\n",
    "\n",
    "Result #=> [['a'], ['b'], ['c']]\n",
    "\n",
    "li3[0][0] = ['X']\n",
    "\n",
    "print(li4)\n",
    "\n",
    "#=> [[['X']], ['b'], ['c']]"
   ]
  },
  {
   "cell_type": "markdown",
   "id": "314b89e8",
   "metadata": {},
   "source": [
    "##### Deep copy\n",
    "\n",
    "import copy\n",
    "\n",
    "li5 = [['a'],['b'],['c']]\n",
    "\n",
    "li6 = copy.deepcopy(li5)\n",
    "\n",
    "li5.append([4])\n",
    "\n",
    "li5[0][0] = ['X']\n",
    "\n",
    "print(li6)\n",
    "\n",
    "RESULT #=> [['a'], ['b'], ['c']]"
   ]
  },
  {
   "cell_type": "markdown",
   "id": "14741ea8",
   "metadata": {},
   "source": [
    "#### 20. What is the difference between lists and arrays?\n",
    "\n",
    "Lists exist in python’s standard library. Arrays are defined by Numpy.\n",
    "\n",
    "List is 1-Dimensional and Numpy can be multi-dimensional\n",
    "\n",
    "Lists can be populated with different types of data at each index. Arrays require homogeneous elements.\n",
    "\n",
    "Arithmetic on lists adds or removes elements from the list. Arithmetic on arrays functions per linear algebra.\n",
    "\n",
    "Arrays also use less memory and come with significantly more functionality.\n",
    "\n",
    "NumPy arrays are stored at one continuous place in memory unlike lists, so processes can access and manipulate them very efficiently."
   ]
  },
  {
   "cell_type": "markdown",
   "id": "0611cb94",
   "metadata": {},
   "source": []
  }
 ],
 "metadata": {
  "kernelspec": {
   "display_name": "Python 3",
   "language": "python",
   "name": "python3"
  },
  "language_info": {
   "codemirror_mode": {
    "name": "ipython",
    "version": 3
   },
   "file_extension": ".py",
   "mimetype": "text/x-python",
   "name": "python",
   "nbconvert_exporter": "python",
   "pygments_lexer": "ipython3",
   "version": "3.8.8"
  }
 },
 "nbformat": 4,
 "nbformat_minor": 5
}
